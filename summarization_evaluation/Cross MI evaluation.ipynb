{
 "cells": [
  {
   "cell_type": "code",
   "execution_count": null,
   "id": "initial_id",
   "metadata": {
    "collapsed": true,
    "jupyter": {
     "outputs_hidden": true
    }
   },
   "outputs": [],
   "source": [
    "import pandas as pd\n",
    "import seaborn as sns\n",
    "import numpy as np\n",
    "import matplotlib.pyplot as plt\n",
    "import networkx as nx\n",
    "import matplotlib.patheffects as patheffects"
   ]
  },
  {
   "cell_type": "code",
   "execution_count": null,
   "id": "fd6f64f09ef8c8f3",
   "metadata": {
    "collapsed": false
   },
   "outputs": [],
   "source": [
    "df = pd.read_csv('../../output/cross/crossmis.csv')\n",
    "\n",
    "# permute all xxx_1 and xxx_2 columns\n",
    "df = df.rename(columns={col: col.replace(' 1', ' 2') for col in df.columns if '1' in col} | {col: col.replace(' 2', ' 1') for col in df.columns if '2' in col})\n",
    "\n",
    "df = df.rename(columns={\"summary_1\": \"summary_2\", \"summary_2\": \"summary_1\"})\n",
    "\n",
    "\n",
    "display(df)\n",
    "df = df.groupby(['metadata/Model name 1', 'metadata/Model name 2']).nth(0).reset_index()\n",
    "\n"
   ]
  },
  {
   "cell_type": "code",
   "execution_count": null,
   "id": "490ab2a061e7462e",
   "metadata": {
    "collapsed": false
   },
   "outputs": [],
   "source": [
    "df\n",
    "# for each group get only firt row\n"
   ]
  },
  {
   "cell_type": "code",
   "execution_count": null,
   "id": "8521e6b8405f6742",
   "metadata": {
    "collapsed": false
   },
   "outputs": [],
   "source": []
  },
  {
   "cell_type": "code",
   "execution_count": null,
   "id": "220ee9e138671e1a",
   "metadata": {
    "collapsed": false
   },
   "outputs": [],
   "source": [
    "\n",
    "# make a custom palette where 0 is gray and everything else is a gradient following the YlGnBu palette\n",
    "palette = sns.color_palette(\"YlGnBu\", 100)\n",
    "palette[-1] = (0.3, 0.3, 0.3, 1.0)\n",
    "\n",
    "\n",
    "# create heat map table\n",
    "table = df.dropna().pivot(\"metadata/Model name 1\", \"metadata/Model name 2\", \"I(summary_1 -> summary_2)\").fillna(-1)\n",
    "\n",
    "display(table)\n",
    "# get min that is not 0\n",
    "min_val = table[table > 0].min().min()\n",
    "\n",
    "g = sns.clustermap(table, annot=True, fmt=\".2f\", linewidths=.5, cmap=palette, vmin=min_val)\n",
    "\n",
    "# add title\n",
    "\n",
    "# save figure\n",
    "path = f\"../../../papers/Mutual-information-for-summarization/img/crossmis.png\"\n",
    "plt.tight_layout()\n",
    "plt.savefig(path, bbox_inches='tight', dpi=300)\n",
    "\n",
    "# sns.heatmap(data=df, x=\"metadata/Model name 1\", y=\"metadata/Model name 2\", value, annot=True, fmt=\".2f\", linewidths=.5, cmap=\"YlGnBu\")\n"
   ]
  },
  {
   "cell_type": "code",
   "execution_count": null,
   "id": "5da7acf46f5ce31b",
   "metadata": {
    "collapsed": false
   },
   "outputs": [],
   "source": [
    "# plot graph of models\n",
    "\n",
    "# make grid dark background\n",
    "sns.set_style(\"whitegrid\")\n",
    "\n",
    "cmap =sns.color_palette(\"coolwarm\", as_cmap=True)\n",
    "\n",
    "\n",
    "table = df.dropna().pivot(\"metadata/Model name 1\", \"metadata/Model name 2\", \"I(summary_1 -> summary_2)\").fillna(-0.0)\n",
    "# remove lines and columns containing xsum in index and columns\n",
    "\n",
    "# compute 1/x for each value\n",
    "\n",
    "G= nx.from_pandas_adjacency(table, create_using=nx.DiGraph)\n",
    "G.remove_edges_from(nx.selfloop_edges(G))\n",
    "\n",
    "\n",
    "\n",
    "\n",
    "avg_weight = {n : np.mean([d[2]['weight'] for d in G.out_edges(n, data=True)]) for n in G.nodes()}\n",
    "avg_income = {n : np.mean([d[2]['weight'] for d in G.in_edges(n, data=True)]) for n in G.nodes()}\n",
    "# remove edge with weighht <= 50\n",
    "# for edge in list(G.edges(data=True)):\n",
    "#     if edge[2]['weight'] >= 1/55:\n",
    "#         G.remove_edge(edge[0], edge[1])\n",
    "\n",
    "\n",
    "layout = nx.spring_layout(G, k=0.9, iterations=100)\n",
    "fig, ax = plt.subplots(figsize=(20, 10))\n",
    "\n",
    "def make_border_color(strength, cmap, vmin, vmax):\n",
    "    return cmap((strength - vmin) / (vmax - vmin))\n",
    "    \n",
    "\n",
    "# draw nodes with border color based on avg_income\n",
    "nx.draw_networkx_nodes(G, layout, node_size=1000, node_color=list(avg_weight.values()), cmap=cmap, vmin=min(avg_weight.values()), vmax=max(avg_weight.values()), ax=ax, linewidths=4, edgecolors=[make_border_color(avg_income[n], cmap, min(avg_income.values()), max(avg_income.values())) for n in G.nodes()])\n",
    "\n",
    "\n",
    "nx.draw_networkx_edges(G, layout, width=[d[2]['weight']/15 for d in G.edges(data=True)], edge_color=[d[2]['weight'] for d in G.edges(data=True)], edge_cmap=cmap, edge_vmin=min(avg_weight.values()), edge_vmax=max(avg_weight.values()), ax=ax, arrowsize=30, arrowstyle='-|>', alpha=[d[2]['weight']/200 for d in G.edges(data=True)], connectionstyle='arc3, rad = 0.4', min_source_margin=20, min_target_margin=20)\n",
    "\n",
    "nx.draw_networkx_labels(G, layout, font_size=14, font_color='black', font_weight='bold', ax=ax)\n",
    "\n",
    "\n",
    "\n",
    "\n",
    "# add cmap legend\n",
    "sm = plt.cm.ScalarMappable(cmap=cmap, norm=plt.Normalize(vmin=min(avg_weight.values()), vmax=max(avg_weight.values())))\n",
    "sm._A = []\n",
    "plt.colorbar(sm, ax=plt.gca())\n",
    "\n",
    "# add white contour to all texts in the figure\n",
    "for text in plt.gca().texts:\n",
    "    text.set_path_effects([patheffects.Stroke(linewidth=4, foreground='white'), patheffects.Normal()])\n",
    "    \n",
    "plt.tight_layout()\n",
    "axis = plt.gca()\n",
    "axis.set_xlim([1.2*x for x in axis.get_xlim()])\n",
    "axis.set_ylim([1.2*y for y in axis.get_ylim()])\n",
    "plt.tight_layout()\n",
    "# save figure\n",
    "path = f\"../../../papers/Mutual-information-for-summarization/img/crossmisgraph.png\"\n",
    "plt.tight_layout()\n",
    "plt.savefig(path, bbox_inches='tight', dpi=300)\n",
    "\n",
    "\n",
    "\n",
    "\n"
   ]
  },
  {
   "cell_type": "code",
   "execution_count": null,
   "id": "23dc05288203e681",
   "metadata": {
    "collapsed": false
   },
   "outputs": [],
   "source": []
  },
  {
   "cell_type": "code",
   "execution_count": null,
   "id": "ee41ff56a8a78223",
   "metadata": {
    "collapsed": false
   },
   "outputs": [],
   "source": [
    "def central_community_layout(G, threshold=58):\n",
    "\n",
    "    avg_weight = {n : np.mean([d[2]['weight'] for d in G.out_edges(n, data=True)]) for n in G.nodes()}\n",
    "    avg_income = {n : np.mean([d[2]['weight'] for d in G.in_edges(n, data=True)]) for n in G.nodes()}\n",
    "    \n",
    "    # group the nodes with avg_weight > threshold and the rest\n",
    "    # get the subgraph of nodes with avg_weight > threshold\n",
    "    subgraph = G.subgraph([n for n in G.nodes() if avg_weight[n] > threshold])\n",
    "    # get the subgraph of nodes with avg_weight <= threshold\n",
    "    subgraph2 = G.subgraph([n for n in G.nodes() if avg_weight[n] <= threshold])\n",
    "    \n",
    "    # get the position of the nodes in the subgraph\n",
    "    pos = nx.circular_layout(subgraph, scale=0.5, center=(0, 0))\n",
    "    \n",
    "    # get the position of the nodes in the subgraph2\n",
    "    pos2 = nx.circular_layout(subgraph2, scale=1.5, center=(0, 0))\n",
    "    \n",
    "    # get the position of the nodes in the original graph\n",
    "    pos = {n : pos[n] if n in pos else pos2[n] for n in G.nodes()}\n",
    "    \n",
    "    return pos"
   ]
  },
  {
   "cell_type": "code",
   "execution_count": null,
   "outputs": [],
   "source": [
    "\n",
    "# plot graph of models\n",
    "\n",
    "# make grid dark background\n",
    "sns.set_style(\"whitegrid\")\n",
    "\n",
    "cmap =sns.color_palette(\"coolwarm\", as_cmap=True)\n",
    "\n",
    "\n",
    "table = df.dropna().pivot(\"metadata/Model name 1\", \"metadata/Model name 2\", \"I(summary_1 -> summary_2)\").fillna(-0.0)\n",
    "# remove lines and columns containing xsum in index and columns\n",
    "\n",
    "# compute 1/x for each value\n",
    "\n",
    "G= nx.from_pandas_adjacency(table, create_using=nx.DiGraph)\n",
    "G.remove_edges_from(nx.selfloop_edges(G))\n",
    "\n",
    "\n",
    "\n",
    "\n",
    "\n",
    "avg_weight = {n : np.mean([d[2]['weight'] for d in G.out_edges(n, data=True)]) for n in G.nodes()}\n",
    "avg_income = {n : np.mean([d[2]['weight'] for d in G.in_edges(n, data=True)]) for n in G.nodes()}\n",
    "# remove edge with weighht <= 50\n",
    "# for edge in list(G.edges(data=True)):\n",
    "#     if edge[2]['weight'] >= 1/55:\n",
    "#         G.remove_edge(edge[0], edge[1])\n",
    "\n",
    "\n",
    "layout = central_community_layout(G, threshold=61)\n",
    "fig, ax = plt.subplots(figsize=(20, 10))\n",
    "\n",
    "def make_border_color(strength, cmap, vmin, vmax):\n",
    "    return cmap((strength - vmin) / (vmax - vmin))\n",
    "\n",
    "\n",
    "# draw nodes with border color based on avg_income\n",
    "nx.draw_networkx_nodes(G, layout, node_size=5000, node_color=list(avg_weight.values()), cmap=cmap, vmin=min(avg_weight.values()), vmax=max(avg_weight.values()), ax=ax, linewidths=8, edgecolors=[make_border_color(avg_income[n], cmap, min(avg_income.values()), max(avg_income.values())) for n in G.nodes()])\n",
    "\n",
    "edge_colors = [d[2]['weight'] for d in G.edges(data=True)]\n",
    "edge_size = [d[2]['weight']/15 for d in G.edges(data=True)]\n",
    "alphas = [d[2]['weight']/200 for d in G.edges(data=True)]\n",
    "\n",
    "\n",
    "nx.draw_networkx_edges(G, layout, width=edge_size, edge_color=edge_colors, edge_cmap=cmap, edge_vmin=min(avg_weight.values()), edge_vmax=max(avg_weight.values()), ax=ax, arrowsize=30, arrowstyle='-|>', alpha=alphas, connectionstyle='arc3, rad = 0.4', min_source_margin=20, min_target_margin=20)\n",
    "\n",
    "# remove first part of the names split by _\n",
    "labels = {n : \"_\".join(n.split('_')[1:]) if \"summarization_text\" not in n and \"summarization_medical\" not in n else n  for n in G.nodes() }\n",
    "\n",
    "# replace the labels\n",
    "\n",
    "nx.draw_networkx_labels(G, layout, font_size=22, font_color='black', font_weight='bold', ax=ax, labels=labels)\n",
    "\n",
    "\n",
    "# add cmap legend\n",
    "sm = plt.cm.ScalarMappable(cmap=cmap, norm=plt.Normalize(vmin=min(avg_weight.values()), vmax=max(avg_weight.values())))\n",
    "sm._A = []\n",
    "plt.colorbar(sm, ax=plt.gca())\n",
    "\n",
    "# make colorbar tick labels bigger\n",
    "cbar = plt.gcf().axes[-1]\n",
    "cbar.tick_params(labelsize=22)\n",
    "\n",
    "\n",
    "# add white contour to all texts in the figure\n",
    "for text in plt.gca().texts:\n",
    "    text.set_path_effects([patheffects.Stroke(linewidth=4, foreground='white'), patheffects.Normal()])\n",
    "\n",
    "plt.tight_layout()\n",
    "axis = plt.gca()\n",
    "axis.set_xlim([1.2*x for x in axis.get_xlim()])\n",
    "axis.set_ylim([1.2*y for y in axis.get_ylim()])\n",
    "plt.tight_layout()\n",
    "# save figure\n",
    "path = f\"../../../papers/Mutual-information-for-summarization/img/crossmisgraph.png\"\n",
    "plt.tight_layout()\n",
    "plt.savefig(path, bbox_inches='tight', dpi=300)\n"
   ],
   "metadata": {
    "collapsed": false
   },
   "id": "f6dbed717aeaf1fd"
  },
  {
   "cell_type": "code",
   "execution_count": null,
   "outputs": [],
   "source": [],
   "metadata": {
    "collapsed": false
   },
   "id": "29c51447a5f5990f"
  }
 ],
 "metadata": {
  "kernelspec": {
   "display_name": "Python 3 (ipykernel)",
   "language": "python",
   "name": "python3"
  },
  "language_info": {
   "codemirror_mode": {
    "name": "ipython",
    "version": 3
   },
   "file_extension": ".py",
   "mimetype": "text/x-python",
   "name": "python",
   "nbconvert_exporter": "python",
   "pygments_lexer": "ipython3",
   "version": "3.11.5"
  }
 },
 "nbformat": 4,
 "nbformat_minor": 5
}
