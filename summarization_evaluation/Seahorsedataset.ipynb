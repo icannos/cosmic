{
 "cells": [
  {
   "cell_type": "code",
   "execution_count": null,
   "id": "initial_id",
   "metadata": {
    "collapsed": true
   },
   "outputs": [],
   "source": [
    "import pandas as pd\n",
    "import seaborn as sns\n",
    "import numpy as np\n",
    "import matplotlib.pyplot as plt\n",
    "from pathlib import Path"
   ]
  },
  {
   "cell_type": "code",
   "execution_count": null,
   "outputs": [],
   "source": [
    "\n",
    "\n"
   ],
   "metadata": {
    "collapsed": false
   },
   "id": "6d062f2d01452d75"
  },
  {
   "cell_type": "code",
   "execution_count": null,
   "outputs": [],
   "source": [
    "df = pd.read_csv('../../output/seahorse_eval.csv')\n",
    "df2 = pd.read_csv('../../output/seahorse_ds_2.csv')"
   ],
   "metadata": {
    "collapsed": false
   },
   "id": "83deffaf9c0b349"
  },
  {
   "cell_type": "code",
   "execution_count": null,
   "outputs": [],
   "source": [
    "df = df[~df['metadata/Decoding config'].isna()]\n",
    "\n",
    "# df = df[~df['metadata/Decoding config'].str.contains('short')]\n",
    "display(df)\n",
    "print(df.columns)\n",
    "\n",
    "\n",
    "# tasks names\n",
    "tasks_names = [c.split('/')[1] for c in df.columns if \"SH\" in c.split('/')[0]]\n",
    "print(tasks_names)"
   ],
   "metadata": {
    "collapsed": false
   },
   "id": "f3e7b809f0b7062f"
  },
  {
   "cell_type": "code",
   "execution_count": null,
   "outputs": [],
   "source": [
    "\n",
    "COL = \"H(text|summary)\"\n",
    "COL2 = \"H(text)\"\n",
    "fig, (ax1, ax2) = plt.subplots(1, 2, figsize=(20, 10), sharey=False, sharex=False)\n",
    "# order by I(summary -> text)\n",
    "\n",
    "# same for df\n",
    "df = df.sort_values(by=COL, ascending=False)\n",
    "sns.barplot(data=df, x=\"metadata/Model name\", y=COL, ax=ax2)\n",
    "\n",
    "# set ylim based on the max and min\n",
    "ax2.set_ylim([df[COL].min() - 0.05, df[COL].max() + 0.05])\n",
    "ax2.set_xticklabels(ax2.get_xticklabels(), rotation=90)\n",
    "\n",
    "\n",
    "df = df.sort_values(by=COL2, ascending=False)\n",
    "sns.barplot(data=df, x=\"metadata/Model name\", y=COL2, ax=ax1)\n",
    "\n",
    "# set ylim based on the max and min\n",
    "ax1.set_ylim([df[COL2].min() - 0.05, df[COL2].max() + 0.05])\n",
    "ax1.set_xticklabels(ax1.get_xticklabels(), rotation=90)\n"
   ],
   "metadata": {
    "collapsed": false
   },
   "id": "5ee066b902d670d0"
  },
  {
   "cell_type": "code",
   "execution_count": null,
   "outputs": [],
   "source": [
    "\n",
    "# order by I(summary -> text)\n",
    "COL = \"H(text|summary)\"\n",
    "\n",
    "df2 = df2.sort_values(by=COL, ascending=False)\n",
    "sns.barplot(data=df2, x=\"metadata/Model name\", y=COL, ax=ax1)\n",
    "ax1.set_xticklabels(ax1.get_xticklabels(), rotation=90)\n",
    "\n",
    "\n",
    "# same for df\n",
    "df = df.sort_values(by=COL, ascending=False)\n",
    "sns.barplot(data=df, x=\"metadata/Model name\", y=COL, ax=ax2)\n",
    "# lim 55 65\n",
    "ax2.set_xticklabels(ax2.get_xticklabels(), rotation=90)\n",
    "\n",
    "fig\n"
   ],
   "metadata": {
    "collapsed": false
   },
   "id": "aa6ec7ae762c9e27"
  },
  {
   "cell_type": "code",
   "execution_count": null,
   "outputs": [],
   "source": [
    "\n",
    "\n",
    "df['source'] = df[\"Unnamed: 0\"]\n",
    "\n",
    "\n",
    "\n"
   ],
   "metadata": {
    "collapsed": false
   },
   "id": "fe51c58e2331570b"
  },
  {
   "cell_type": "code",
   "execution_count": null,
   "outputs": [],
   "source": [],
   "metadata": {
    "collapsed": false
   },
   "id": "d5126c028f531b"
  },
  {
   "cell_type": "code",
   "execution_count": null,
   "outputs": [],
   "source": [
    "\n",
    "def custom_reg_plot(data, x=None, y=None, hue=None, **kwargs):\n",
    "    ax = plt.gca()\n",
    "    sns.regplot(data=data, x=x, y=y, ci=95, scatter=False, ax=ax, x_ci='sd')\n",
    "    sns.scatterplot(data=data, x=x, y=y, hue=hue, alpha=1, s=100, ax=ax, **kwargs, palette='mako')\n",
    "    return ax\n",
    "    \n",
    "    \n",
    "\n",
    "\n",
    "fig, axes = plt.subplots(2, 3, figsize=(20, 10), sharey=False, sharex=False, dpi=300)\n",
    "# COL = \"H(summary|text)\"\n",
    "\n",
    "axes = axes.flatten()\n",
    "df['N-MI_1'] = df['I(text -> summary)'] / df['H(summary)']\n",
    "df['I(summary -> text) / H(text)'] = df['I(summary -> text)'] / df['H(text)']\n",
    "# info diff:\n",
    "df[\"I(text -> summary) - I(summary -> text)\"] = df['I(text -> summary)'] - df['I(summary -> text)']\n",
    "df[\"I(summary -> text) - I(text -> summary)\"] = df['I(summary -> text)'] - df['I(text -> summary)']\n",
    "COL = \"I(summary -> text) / H(text)\"\n",
    "for k, task in enumerate(tasks_names):\n",
    "        print(task)\n",
    "        sns.set_theme(style=\"whitegrid\")\n",
    "        \n",
    "        # sns.regplot(data=df, x=\"I(summary -> text)\", y=f\"SH/{task}\", ci=95, scatter=False, ax=axes[tasks_names.index(task)], x_ci='sd')*\n",
    "        # with correlation coefficient\n",
    "        sns.regplot(data=df, x=COL, y=f\"SH/{task}\", ci=95, scatter=False, ax=axes[tasks_names.index(task)], x_ci='sd')\n",
    "        \n",
    "        # annotate with the correlation coefficient:\n",
    "        corr = df[COL].corr(df[f\"SH/{task}\"])\n",
    "        axes[tasks_names.index(task)].annotate(f\"r={corr:.2f}\", xy=(0.85, 0.05), xycoords='axes fraction', fontsize=16)\n",
    "        \n",
    "        \n",
    "        sns.scatterplot(data=df, x=COL, y=f\"SH/{task}\", style=\"metadata/Model name\", hue=\"metadata/Model name\", alpha=1, s=300, ax=axes[tasks_names.index(task)], palette='mako')\n",
    "        axes[tasks_names.index(task)].set_title(task, fontsize=20)\n",
    "        \n",
    "        # renames x and y labels\n",
    "        axes[tasks_names.index(task)].set_xlabel(COL, fontsize=16)\n",
    "        axes[tasks_names.index(task)].set_ylabel(\"Human Judgement\", fontsize=16)\n",
    "        \n",
    "        # legend fontsize\n",
    "        axes[tasks_names.index(task)].legend(fontsize=14)\n",
    "        \n",
    "    # remove legends\n",
    "        if k != 1:\n",
    "            axes[k].get_legend().remove()\n",
    "            # put legend on bottom right\n",
    "            \n",
    "# put a single legend below the center of the whole figure\n",
    "\n",
    "fig.legend(*axes[1].get_legend_handles_labels(), loc='lower center', ncol=3, fontsize=16, bbox_to_anchor=(0.5, -0.12))\n",
    "axes[1].get_legend().remove()\n",
    "\n",
    "fig.tight_layout()\n",
    "path = f\"../../../papers/Mutual-information-for-summarization/img/seahorse_ds/\"\n",
    "Path(path).mkdir(parents=True, exist_ok=True)\n",
    "\n",
    "fig.savefig(\"../../../papers/Mutual-information-for-summarization/img/seahorse_ds/correlation_with_human_judgement.png\", dpi=300, bbox_inches='tight')\n",
    "\n",
    "\n",
    "        \n",
    "\n"
   ],
   "metadata": {
    "collapsed": false
   },
   "id": "81d8d960ffa5def7"
  },
  {
   "cell_type": "code",
   "execution_count": null,
   "outputs": [],
   "source": [
    "    df\n",
    "\n"
   ],
   "metadata": {
    "collapsed": false
   },
   "id": "1c80fdb528629a7a"
  },
  {
   "cell_type": "code",
   "execution_count": null,
   "outputs": [],
   "source": [
    "\n"
   ],
   "metadata": {
    "collapsed": false
   },
   "id": "4a8038fe8f5b8925"
  },
  {
   "cell_type": "code",
   "execution_count": null,
   "outputs": [],
   "source": [
    "\n",
    "# List of datasets\n",
    "datasets = df['metadata/Dataset name'].dropna().unique()\n",
    "\n",
    "for dataset in datasets:\n",
    "    \n",
    "    # plot I(summary -> text) for each model\n",
    "    sns.set_theme(style=\"whitegrid\")\n",
    "    # keep only top_p_sampling\n",
    "    # df_top_p = df[df['metadata/Decoding config'] == 'top_p_sampling']\n",
    "    # select dataset\n",
    "    df_top_p = df[df['metadata/Dataset name'] == dataset]\n",
    "    df_top_p = df[df['metadata/Decoding size'] == 50]\n",
    "    \n",
    "    # sort by I(summary -> text)\n",
    "    df_top_p = df_top_p.sort_values(by=\"I(summary -> text)\", ascending=False)\n",
    "    \n",
    "    ax =sns.barplot(data=df_top_p, y=\"metadata/Model name\", x=\"I(summary -> text)\", orient=\"h\")\n",
    "    \n",
    "    # change y title to be more readable\n",
    "    ax.set(ylabel=\"Model name\")\n",
    "    \n",
    "    # change xlim based to be a little bit less than the min and a little bit more than the max\n",
    "    ax.set_xlim([df_top_p['I(summary -> text)'].min() - 5, df_top_p['I(summary -> text)'].max() + 5])\n",
    "    \n",
    "    # save figure\n",
    "    #plt.savefig(f\"../../../papers/Mutual-information-for-summarization/img/model_comparison/{dataset}_top_p.png\", dpi=300, bbox_inches='tight')\n",
    "    # plt.clf()\n",
    "    \n"
   ],
   "metadata": {
    "collapsed": false
   },
   "id": "2c98e219f7c42d17"
  },
  {
   "cell_type": "code",
   "execution_count": null,
   "outputs": [],
   "source": [
    "\n",
    "\n",
    "\n",
    "\n",
    "ddf = df.drop('Unnamed: 0', axis=1)\n",
    "# df = df.set_index([metadata for metadata in df.columns if \"metadata\" in metadata])\n",
    "ddf = ddf.melt(id_vars=[metadata for metadata in ddf.columns if \"metadata\" in metadata] ,var_name=\"Score\", value_name=\"Value\")\n",
    "\n",
    "\n",
    "\n",
    "\n",
    "\n"
   ],
   "metadata": {
    "collapsed": false
   },
   "id": "417f75e72fcd543d"
  },
  {
   "cell_type": "code",
   "execution_count": null,
   "outputs": [],
   "source": [
    "\n",
    "def custom_reg_plot(data, x=None, y=None, hue=None, **kwargs):\n",
    "    ax = plt.gca()\n",
    "    sns.regplot(data=data, x=x, y=y, ci=95, scatter=False, ax=ax, x_ci='sd')\n",
    "    sns.scatterplot(data=data, x=x, y=y, hue=hue, alpha=1, s=100, ax=ax, **kwargs, palette='mako')\n",
    "    return ax\n",
    "\n",
    "\n",
    "\n",
    "\n",
    "fig, axes = plt.subplots(2, 3, figsize=(20, 10), sharey=False, sharex=False, dpi=300)\n",
    "# COL = \"H(summary|text)\"\n",
    "\n",
    "axes = axes.flatten()\n",
    "df['N-MI_1'] = df['I(text -> summary)'] / df['H(summary)']\n",
    "df['I(summary -> text) / H(text)'] = df['I(summary -> text)'] / df['H(text)']\n",
    "# info diff:\n",
    "df[\"I(text -> summary) - I(summary -> text)\"] = df['I(text -> summary)'] - df['I(summary -> text)']\n",
    "df[\"I(summary -> text) - I(text -> summary)\"] = df['I(summary -> text)'] - df['I(text -> summary)']\n",
    "COL =  \"H(text)\"\n",
    "for k, task in enumerate(tasks_names):\n",
    "    print(task)\n",
    "    sns.set_theme(style=\"whitegrid\")\n",
    "\n",
    "    # sns.regplot(data=df, x=\"I(summary -> text)\", y=f\"SH/{task}\", ci=95, scatter=False, ax=axes[tasks_names.index(task)], x_ci='sd')*\n",
    "    # with correlation coefficient\n",
    "    sns.regplot(data=df, x=COL, y=f\"SH/{task}\", ci=95, scatter=False, ax=axes[tasks_names.index(task)], x_ci='sd')\n",
    "\n",
    "    # annotate with the correlation coefficient:\n",
    "    corr = df[COL].corr(df[f\"SH/{task}\"])\n",
    "    axes[tasks_names.index(task)].annotate(f\"r={corr:.2f}\", xy=(0.85, 0.05), xycoords='axes fraction', fontsize=16)\n",
    "\n",
    "\n",
    "    sns.scatterplot(data=df, x=COL, y=f\"SH/{task}\", style=\"metadata/Model name\", hue=\"metadata/Model name\", alpha=1, s=300, ax=axes[tasks_names.index(task)], palette='mako')\n",
    "    axes[tasks_names.index(task)].set_title(task, fontsize=22)\n",
    "\n",
    "    # renames x and y labels\n",
    "    axes[tasks_names.index(task)].set_xlabel(COL, fontsize=20)\n",
    "    axes[tasks_names.index(task)].set_ylabel(\"Human Judgement\", fontsize=20)\n",
    "\n",
    "    # legend fontsize\n",
    "    axes[tasks_names.index(task)].legend(fontsize=14)\n",
    "\n",
    "    # remove legends\n",
    "    if k != 1:\n",
    "        axes[k].get_legend().remove()\n",
    "        # put legend on bottom right\n",
    "\n",
    "# put a single legend below the center of the whole figure\n",
    "\n",
    "fig.legend(*axes[1].get_legend_handles_labels(), loc='lower center', ncol=3, fontsize=18, bbox_to_anchor=(0.5, -0.12))\n",
    "axes[1].get_legend().remove()\n",
    "\n",
    "fig.tight_layout()\n",
    "path = f\"../../../papers/Mutual-information-for-summarization/img/seahorse_ds/\"\n",
    "Path(path).mkdir(parents=True, exist_ok=True)\n",
    "\n",
    "fig.savefig(\"../../../papers/Mutual-information-for-summarization/img/seahorse_ds/correlation_with_human_judgement_htext.png\", dpi=300, bbox_inches='tight')\n",
    "\n"
   ],
   "metadata": {
    "collapsed": false
   },
   "id": "33e57574bc2d6d4f"
  },
  {
   "cell_type": "code",
   "execution_count": null,
   "outputs": [],
   "source": [],
   "metadata": {
    "collapsed": false
   },
   "id": "61fb9f84da90c40f"
  },
  {
   "cell_type": "code",
   "execution_count": null,
   "outputs": [],
   "source": [],
   "metadata": {
    "collapsed": false
   },
   "id": "228d430a7d93a2df"
  },
  {
   "cell_type": "code",
   "execution_count": null,
   "outputs": [],
   "source": [],
   "metadata": {
    "collapsed": false
   },
   "id": "58d33384e5368a75"
  },
  {
   "cell_type": "code",
   "execution_count": null,
   "outputs": [],
   "source": [],
   "metadata": {
    "collapsed": false
   },
   "id": "6805ffc0e464b31c"
  }
 ],
 "metadata": {
  "kernelspec": {
   "display_name": "Python 3",
   "language": "python",
   "name": "python3"
  },
  "language_info": {
   "codemirror_mode": {
    "name": "ipython",
    "version": 2
   },
   "file_extension": ".py",
   "mimetype": "text/x-python",
   "name": "python",
   "nbconvert_exporter": "python",
   "pygments_lexer": "ipython2",
   "version": "2.7.6"
  }
 },
 "nbformat": 4,
 "nbformat_minor": 5
}
