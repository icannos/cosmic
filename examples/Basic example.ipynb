{
 "cells": [
  {
   "metadata": {
    "ExecuteTime": {
     "end_time": "2024-07-19T21:23:31.971299Z",
     "start_time": "2024-07-19T21:23:31.967680Z"
    }
   },
   "cell_type": "code",
   "source": [
    "import pandas as pd\n",
    "from cosmic import CosmicScorer\n",
    "\n"
   ],
   "id": "2f6c665932e9ca6a",
   "outputs": [],
   "execution_count": 18
  },
  {
   "metadata": {
    "ExecuteTime": {
     "end_time": "2024-07-19T21:23:32.611344Z",
     "start_time": "2024-07-19T21:23:32.079186Z"
    }
   },
   "cell_type": "code",
   "source": [
    "\n",
    "# this only a simple example, there should be at least 20k samples for to get a significant result\n",
    "source = ['The quick brown fox jumps over the lazy dog', 'Once upon a time, there was a lazy dog', 'I believe the news is fake but the dog is real']\n",
    "summaries = ['fox jumps over dog', 'a lazy dog', 'news is fake but the dog is real']\n",
    "\n",
    "\n",
    "scorer = CosmicScorer(batch_size=2, knife_args_dict={'n_epochs' : 10})\n",
    "scorer.score(source, summaries)\n"
   ],
   "id": "1008311c86669ed5",
   "outputs": [
    {
     "name": "stderr",
     "output_type": "stream",
     "text": [
      "                                                               \r"
     ]
    },
    {
     "data": {
      "text/plain": [
       "-107.42878150939941"
      ]
     },
     "execution_count": 19,
     "metadata": {},
     "output_type": "execute_result"
    }
   ],
   "execution_count": 19
  },
  {
   "metadata": {
    "ExecuteTime": {
     "end_time": "2024-07-19T21:20:17.372150Z",
     "start_time": "2024-07-19T21:20:17.370375Z"
    }
   },
   "cell_type": "code",
   "source": "",
   "id": "ad5bbb1169d4335b",
   "outputs": [],
   "execution_count": 2
  }
 ],
 "metadata": {
  "kernelspec": {
   "display_name": "Python 3",
   "language": "python",
   "name": "python3"
  },
  "language_info": {
   "codemirror_mode": {
    "name": "ipython",
    "version": 2
   },
   "file_extension": ".py",
   "mimetype": "text/x-python",
   "name": "python",
   "nbconvert_exporter": "python",
   "pygments_lexer": "ipython2",
   "version": "2.7.6"
  }
 },
 "nbformat": 4,
 "nbformat_minor": 5
}
